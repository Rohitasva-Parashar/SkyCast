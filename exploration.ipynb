{
 "cells": [
  {
   "cell_type": "code",
   "execution_count": null,
   "id": "initial_id",
   "metadata": {
    "collapsed": true
   },
   "outputs": [],
   "source": [
    "# exploration.ipynb\n",
    "import pandas as pd\n",
    "import matplotlib.pyplot as plt\n",
    "import seaborn as sns\n",
    "from ipywidgets import interact\n",
    "\n",
    "# Load enhanced data\n",
    "df = pd.read_excel(\"flight_data_enhanced.xlsx\", parse_dates=[\n",
    "    'scheduled_departure', 'actual_departure',\n",
    "    'scheduled_arrival', 'actual_arrival'\n",
    "])\n",
    "\n",
    "# 1. Flight Duration vs Delay\n",
    "plt.figure(figsize=(12,6))\n",
    "sns.scatterplot(x='flight_duration', y='delay_minutes', hue='route_weather', data=df)\n",
    "plt.title(\"Flight Duration vs Delay by Weather Condition\")\n",
    "plt.show()\n",
    "\n",
    "# 2. Interactive Temporal Analysis\n",
    "@interact(hour=range(24),\n",
    "          weather=sorted(df['route_weather'].unique()))\n",
    "def plot_hourly_delays(hour, weather):\n",
    "    subset = df[(df['departure_hour'] == hour) &\n",
    "               (df['route_weather'] == weather)]\n",
    "\n",
    "    plt.figure(figsize=(12,6))\n",
    "    sns.boxplot(x='airline', y='delay_minutes', data=subset)\n",
    "    plt.title(f\"Delays at {hour}:00 with {weather} weather\")\n",
    "    plt.xticks(rotation=45)\n",
    "    plt.show()\n",
    "\n",
    "# 3. Route Weather Impact\n",
    "weather_impact = df.groupby('route_weather')['delay_minutes'].agg(['mean', 'count'])\n",
    "weather_impact = weather_impact[weather_impact['count'] > 10]  # Filter rare conditions\n",
    "\n",
    "plt.figure(figsize=(12,6))\n",
    "weather_impact['mean'].sort_values().plot(kind='bar')\n",
    "plt.title(\"Average Delay by En-Route Weather Condition\")\n",
    "plt.ylabel(\"Average Delay (minutes)\")\n",
    "plt.show()\n",
    "\n",
    "# 4. Temporal Patterns\n",
    "plt.figure(figsize=(16,8))\n",
    "plt.subplot(2,2,1)\n",
    "sns.boxplot(x='departure_hour', y='delay_minutes', data=df)\n",
    "plt.title(\"Delays by Hour of Day\")\n",
    "\n",
    "plt.subplot(2,2,2)\n",
    "sns.boxplot(x='departure_day', y='delay_minutes', data=df)\n",
    "plt.title(\"Delays by Day of Week\")\n",
    "\n",
    "plt.subplot(2,2,3)\n",
    "sns.scatterplot(x='route_temp', y='delay_minutes', data=df)\n",
    "plt.title(\"Delays vs Temperature\")\n",
    "\n",
    "plt.subplot(2,2,4)\n",
    "sns.scatterplot(x='route_wind', y='delay_minutes', data=df)\n",
    "plt.title(\"Delays vs Wind Speed\")\n",
    "\n",
    "plt.tight_layout()\n",
    "plt.show()"
   ]
  }
 ],
 "metadata": {
  "kernelspec": {
   "display_name": "Python 3",
   "language": "python",
   "name": "python3"
  },
  "language_info": {
   "codemirror_mode": {
    "name": "ipython",
    "version": 2
   },
   "file_extension": ".py",
   "mimetype": "text/x-python",
   "name": "python",
   "nbconvert_exporter": "python",
   "pygments_lexer": "ipython2",
   "version": "2.7.6"
  }
 },
 "nbformat": 4,
 "nbformat_minor": 5
}
